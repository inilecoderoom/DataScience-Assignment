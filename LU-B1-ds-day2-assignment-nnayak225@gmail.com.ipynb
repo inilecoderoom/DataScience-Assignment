{
 "cells": [
  {
   "cell_type": "markdown",
   "metadata": {},
   "source": [
    "# Day 2 -- Assignment"
   ]
  },
  {
   "cell_type": "markdown",
   "metadata": {},
   "source": [
    "### Questions 1:\n",
    "Create an empty list. Accept 10 numbers from the user and append to it the list if it is an even number."
   ]
  },
  {
   "cell_type": "code",
   "execution_count": 1,
   "metadata": {},
   "outputs": [
    {
     "name": "stdout",
     "output_type": "stream",
     "text": [
      "23\n",
      "96\n",
      "42\n",
      "85\n",
      "56\n",
      "32\n",
      "10\n",
      "75\n",
      "20\n",
      "98\n",
      "[96, 42, 56, 32, 10, 20, 98]\n"
     ]
    }
   ],
   "source": [
    "evenNumberList = []\n",
    "for i in range(10):\n",
    "    inputNumber = int(input())\n",
    "    if(inputNumber%2 == 0):\n",
    "        evenNumberList.append(inputNumber)\n",
    "        \n",
    "print(evenNumberList)"
   ]
  },
  {
   "cell_type": "code",
   "execution_count": null,
   "metadata": {},
   "outputs": [],
   "source": []
  },
  {
   "cell_type": "markdown",
   "metadata": {},
   "source": [
    "### Questions 2:\n",
    "Create a notebook on LIST COMPREHENSION. This exercise is to put you in a Self learning mode\n",
    "\n",
    "  #### LIST COMPREHENSION\n",
    "    With the help of list comprehension we can create list in one line        "
   ]
  },
  {
   "cell_type": "code",
   "execution_count": 2,
   "metadata": {},
   "outputs": [
    {
     "name": "stdout",
     "output_type": "stream",
     "text": [
      "[1, 4, 9, 16, 25, 36, 49, 64, 81, 100]\n",
      "[1, 4, 9, 16, 25, 36, 49, 64, 81, 100]\n"
     ]
    }
   ],
   "source": [
    "# create a list of square from 1 to 10\n",
    "squares = []\n",
    "for i in range(1, 11):\n",
    "    squares.append(i**2)\n",
    "\n",
    "print(squares)\n",
    "\n",
    "\n",
    "# -----------------------using list comprehension----------------------\n",
    "\n",
    "square2 = [i**2 for i in range(1, 11)]\n",
    "print(square2)\n"
   ]
  },
  {
   "cell_type": "code",
   "execution_count": 3,
   "metadata": {},
   "outputs": [
    {
     "name": "stdout",
     "output_type": "stream",
     "text": [
      "[-1, -2, -3, -4, -5, -6, -7, -8, -9, -10]\n",
      "[-1, -2, -3, -4, -5, -6, -7, -8, -9, -10]\n"
     ]
    }
   ],
   "source": [
    "negative_list = []\n",
    "for i in range(1, 11):\n",
    "    negative_list.append(-i)\n",
    "\n",
    "print(negative_list)\n",
    "\n",
    "\n",
    "\n",
    "# ----------------------------------list comprehension-------------------------\n",
    "\n",
    "new_negative_list = [-i for i in range(1,11)] \n",
    "print(new_negative_list)\n"
   ]
  },
  {
   "cell_type": "code",
   "execution_count": 4,
   "metadata": {},
   "outputs": [
    {
     "name": "stdout",
     "output_type": "stream",
     "text": [
      "['L', 'U']\n",
      "['L', 'U']\n"
     ]
    }
   ],
   "source": [
    "names = ['Lets', 'Upgrade']\n",
    "\n",
    "new_names = []\n",
    "for name in names:\n",
    "    new_names.append(name[0])\n",
    "\n",
    "print(new_names)\n",
    "\n",
    "#----------------- using list comprehension-----------------\n",
    "\n",
    "names1 = ['Lets', 'Upgrade']\n",
    "new_names1 = [name[0] for name in names1]\n",
    "print(new_names1)\n",
    "\n"
   ]
  },
  {
   "cell_type": "markdown",
   "metadata": {},
   "source": [
    "#### String Reversal using list indexing"
   ]
  },
  {
   "cell_type": "code",
   "execution_count": 5,
   "metadata": {},
   "outputs": [
    {
     "name": "stdout",
     "output_type": "stream",
     "text": [
      "['cba', 'zyx', 'vut']\n",
      "['cba', 'zyx', 'vut']\n"
     ]
    }
   ],
   "source": [
    "#string reversal using indexing\n",
    "\n",
    "l1 = ['abc', 'xyz', 'tuv']\n",
    "def list_rev(l):\n",
    "    l2 = []\n",
    "    for i in l:\n",
    "        l2.append(i[::-1])\n",
    "\n",
    "    return l2\n",
    "\n",
    "print(list_rev(l1))\n",
    "\n",
    "\n",
    "\n",
    "# -----------  **** using list comprehension ***** ---------------\n",
    "\n",
    "def rev_string_list(l):\n",
    "    lst_reverse = [i[::-1] for i in l]\n",
    "     #return [i[::-1] for i in l]\n",
    "    return lst_reverse\n",
    "print(rev_string_list(l1))\n"
   ]
  },
  {
   "cell_type": "code",
   "execution_count": 6,
   "metadata": {},
   "outputs": [
    {
     "name": "stdout",
     "output_type": "stream",
     "text": [
      "[2, 4, 6, 8, 10]\n",
      "[1, 3, 5, 7, 9]\n"
     ]
    }
   ],
   "source": [
    "\n",
    "#---------------------- **** list comprehension with for and if statement *****------------------\n",
    "\n",
    "even_num = [i for i in range(1, 11) if i%2 == 0]\n",
    "print(even_num)\n",
    "\n",
    "odd_num = [i for i in range(1, 11) if i%2 != 0]\n",
    "print(odd_num)"
   ]
  },
  {
   "cell_type": "code",
   "execution_count": 7,
   "metadata": {},
   "outputs": [
    {
     "name": "stdout",
     "output_type": "stream",
     "text": [
      "['1', '2.0', '3', '1.0']\n",
      "[-1, 4, -3, 8, -5, 12, -7, 16, -9, 20]\n"
     ]
    }
   ],
   "source": [
    "\n",
    "# --------******getting numbers as string from one list to another list ********-----------\n",
    "\n",
    "l1 = [1, 2.0, 3, [1, 5, 4], 1.0, 'a', 'd']\n",
    "\n",
    "def num_to_string(l):\n",
    "    return [str(i) for i in l if (type(i) == int or type(i) == float)]\n",
    "\n",
    "print(num_to_string(l1))\n",
    "\n",
    "\n",
    "# ----------------**** if....else ...in list comprehension *********-----------------\n",
    "\n",
    "nums = [1, 2, 3, 4, 5, 6, 7, 8, 9, 10]\n",
    "nums_new_format = [i*2 if (i%2 == 0) else -i for i in nums]\n",
    "print(nums_new_format)\n"
   ]
  },
  {
   "cell_type": "code",
   "execution_count": 8,
   "metadata": {},
   "outputs": [
    {
     "name": "stdout",
     "output_type": "stream",
     "text": [
      "[[1, 2], [1, 2], [1, 2], [1, 2]]\n"
     ]
    }
   ],
   "source": [
    "\n",
    "# ------------**** nested if....else...in list comprehension ********----------------\n",
    "\n",
    "nested_comprehension = [[i for i in range(1, 3)] for j in range(4)]\n",
    "print(nested_comprehension)"
   ]
  },
  {
   "cell_type": "code",
   "execution_count": null,
   "metadata": {},
   "outputs": [],
   "source": []
  },
  {
   "cell_type": "markdown",
   "metadata": {},
   "source": [
    "### Questions 3:\n",
    "You have seen in the videos how powerful dictionary data structure is.\n",
    "In this assignment, given a number n, you have to write a program that generates a dictionary d which\n",
    "contains (i, i*i), where i is from 1 to n (both included).\n",
    "Then you have to just print this dictionary d.\n",
    "\n",
    "Example:\n",
    "Input: 4\n",
    "will give output as\n",
    " {1: 1, 2: 4, 3: 9, 4: 16}\n",
    "\n",
    "Input Format:\n",
    " Take the number n in a single line.\n",
    "\n",
    "Output Format:\n",
    " Print the dictionary d in a single line.\n",
    "\n",
    "Example:\n",
    "Input: 8<br>\n",
    "Output:\n",
    "{1: 1, 2: 4, 3: 9, 4: 16, 5: 25, 6: 36, 7: 49, 8: 64}"
   ]
  },
  {
   "cell_type": "code",
   "execution_count": 9,
   "metadata": {},
   "outputs": [
    {
     "name": "stdout",
     "output_type": "stream",
     "text": [
      "8\n",
      "{1: 1, 2: 4, 3: 9, 4: 16, 5: 25, 6: 36, 7: 49, 8: 64}\n"
     ]
    }
   ],
   "source": [
    "#using dictionary comprehension\n",
    "n = int(input())\n",
    "d = {num: num**2 for num in range(1, n+1)}\n",
    "print(d)\n"
   ]
  },
  {
   "cell_type": "code",
   "execution_count": null,
   "metadata": {},
   "outputs": [],
   "source": []
  },
  {
   "cell_type": "markdown",
   "metadata": {},
   "source": [
    "### Questions 4:\n",
    "There is a robot which wants to go the charging point to charge itself.\n",
    "The robot moves in a 2-D plane from the original point (0,0). The robot can\n",
    "move toward UP, DOWN, LEFT and RIGHT with given steps.\n",
    "\n",
    "The trace of robot movement is shown as the following:<br>\n",
    "UP 5<br>\n",
    "DOWN 3<br>\n",
    "LEFT 3<br>\n",
    "RIGHT 2<br>\n",
    "Then, the output of the program should be: 2\n",
    "<br>The numbers after the direction are steps.\n",
    "<br>\n",
    "Write a program to compute the distance between the current position after\n",
    "a sequence of movement and original point. If the distance is a float, then\n",
    "just print the nearest integer (use round() function for that and then convert\n",
    "it into an integer).\n",
    "\n",
    "Input Format: The first line of the input contains a number n which implies the number of\n",
    "directions to be given.<br>The next n lines contain the direction and the step separated by a space.\n",
    "\n",
    "Output Format: Print the distance from the original position to the current position.\n",
    " \n",
    "Example:\n",
    "\n",
    "Input: 4<br>\n",
    "UP 5<br>\n",
    "DOWN 3<br>\n",
    "LEFT 3<br>\n",
    "RIGHT 2<br>\n",
    "\n",
    "Output: 2"
   ]
  },
  {
   "cell_type": "markdown",
   "metadata": {},
   "source": [
    "$ distance = \\sqrt((x1-x0)^2 + (y1-y0)^2) $"
   ]
  },
  {
   "cell_type": "code",
   "execution_count": 10,
   "metadata": {},
   "outputs": [
    {
     "name": "stdout",
     "output_type": "stream",
     "text": [
      "4\n",
      "UP 5\n",
      "DOWN 3\n",
      "LEFT 3\n",
      "RIGHT 2\n",
      "2\n"
     ]
    }
   ],
   "source": [
    "n = int(input())\n",
    "\n",
    "# original position of robot\n",
    "original_positionX = 0\n",
    "original_positionY = 0\n",
    "\n",
    "count = 0\n",
    "\n",
    "#list of directions for robot\n",
    "direction = [\"UP\",\"DOWN\",\"LEFT\",\"RIGHT\"]\n",
    "\n",
    "# dictionary for direction and steps of robot\n",
    "direction_step = {\n",
    "    \"UP\" : 0,\n",
    "    \"DOWN\" : 0,\n",
    "    \"LEFT\" : 0,\n",
    "    \"RIGHT\" : 0\n",
    "}\n",
    "\n",
    "#step = [5,3,3,2]\n",
    "\n",
    "# accepting value of steps in each direction from User\n",
    "if(n in range(0,5)):\n",
    "    for i in range(n):\n",
    "        x,y = input().split(\" \")\n",
    "        d = x.upper()\n",
    "        if d in direction:\n",
    "            if d == \"UP\":\n",
    "                direction_step[\"UP\"] = int(y)\n",
    "            elif d == \"DOWN\":\n",
    "                direction_step[\"DOWN\"] = int(y)\n",
    "            elif d == \"LEFT\":\n",
    "                direction_step[\"LEFT\"] = int(y)\n",
    "            elif d == \"RIGHT\":\n",
    "                direction_step[\"RIGHT\"] = int(y)\n",
    "        else:\n",
    "            print(\"Warning!!!  -----Wrong Direction-----\")\n",
    "else:\n",
    "    print(\"!!!.... Range of direction should be 0 to 4 ....!!!\")\n",
    "\n",
    "\n",
    "# printing direction and steps\n",
    "# for k, v in direction_step.items():\n",
    "#     print(f\"{k} {v}\")\n",
    "\n",
    "# calculations for final(current) position of robot after a sequence of movement\n",
    "\n",
    "final_positionX = direction_step[\"UP\"]-direction_step[\"DOWN\"]\n",
    "final_positionY = direction_step[\"RIGHT\"]-direction_step[\"LEFT\"]\n",
    "\n",
    "\n",
    "# calculating and printing disance d = ((x1-x0)^2 + (y1-y0)^2)^0.5\n",
    "print(round(((final_positionX - original_positionX)**2 + (final_positionY - original_positionY)**2)**0.5))\n"
   ]
  },
  {
   "cell_type": "code",
   "execution_count": null,
   "metadata": {},
   "outputs": [],
   "source": []
  }
 ],
 "metadata": {
  "kernelspec": {
   "display_name": "Python 3",
   "language": "python",
   "name": "python3"
  },
  "language_info": {
   "codemirror_mode": {
    "name": "ipython",
    "version": 3
   },
   "file_extension": ".py",
   "mimetype": "text/x-python",
   "name": "python",
   "nbconvert_exporter": "python",
   "pygments_lexer": "ipython3",
   "version": "3.8.3"
  }
 },
 "nbformat": 4,
 "nbformat_minor": 4
}
