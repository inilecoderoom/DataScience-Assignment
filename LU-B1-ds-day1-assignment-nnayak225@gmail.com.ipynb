{
 "cells": [
  {
   "cell_type": "markdown",
   "metadata": {},
   "source": [
    "## Questions 1:\n",
    "Given the following jumbled word, OBANWRI guess the correct English word.<br>\n",
    "A. RANIBOW<br>\n",
    "B. RAINBOW<br>\n",
    "C. BOWRANI<br>\n",
    "D. ROBWANI<br>"
   ]
  },
  {
   "cell_type": "markdown",
   "metadata": {},
   "source": [
    "#### Option B"
   ]
  },
  {
   "cell_type": "code",
   "execution_count": 1,
   "metadata": {},
   "outputs": [
    {
     "name": "stdout",
     "output_type": "stream",
     "text": [
      "ANIOWRB\n"
     ]
    }
   ],
   "source": [
    "# trying to create jumbled word for RAINBOW\n",
    "\n",
    "import random\n",
    "_ = random.sample('RAINBOW', len('RAINBOW'))\n",
    "jumbled_word = ''.join(_)\n",
    "print(jumbled_word)"
   ]
  },
  {
   "cell_type": "code",
   "execution_count": null,
   "metadata": {},
   "outputs": [],
   "source": []
  },
  {
   "cell_type": "markdown",
   "metadata": {},
   "source": [
    "## Questions 2:\n",
    "Write a program which prints “LETS UPGRADE”. (Please note that you have to\n",
    "print in ALL CAPS as given)"
   ]
  },
  {
   "cell_type": "code",
   "execution_count": 2,
   "metadata": {},
   "outputs": [
    {
     "name": "stdout",
     "output_type": "stream",
     "text": [
      "lets upgrade\n",
      "LETS UPGRADE\n"
     ]
    }
   ],
   "source": [
    "word = input()\n",
    "print(word.upper())"
   ]
  },
  {
   "cell_type": "code",
   "execution_count": null,
   "metadata": {},
   "outputs": [],
   "source": []
  },
  {
   "cell_type": "markdown",
   "metadata": {},
   "source": [
    "## Questions 3:\n",
    "Write a program that takes cost price and selling price as input and displays whether the transaction is a\n",
    "Profit or a Loss or Neither.\n",
    "INPUT FORMAT\n",
    "The first line contains the cost price.\n",
    "The second line contains the selling price.\n",
    "OUTPUT FORMAT\n",
    "Print \"Profit\" if the transaction is a profit or \"Loss\" if it is a loss. If it is neither\n",
    "profit nor loss, print \"Neither\". (You must not have quotes in your output)\n",
    "NOTE:\n",
    "Please stick to the input and output format. Don't add anything extra like\n",
    "'Enter cost price', 'Enter selling price', etc.\n",
    "#### sample test cases \n",
    "<table align=\"left\">\n",
    "    <tr><td></td><td>Input</td><td>Output</td></tr>\n",
    "    <tr><td>Test case 1</td><td>20<br>30</td><td>Profit</td></tr>\n",
    "    <tr><td>Test case 2</td><td>20<br>10</td><td>Loss</td></tr>\n",
    "    <tr><td>Test case 3</td><td>20<br>20</td><td>Neither</td></tr>\n",
    "    <tr><td>Test case 4</td><td>19<br>19</td><td>Neither</td></tr>\n",
    "    <tr><td>Test case 5</td><td>23<br>7</td><td>Loss</td></tr>\n",
    "    <tr><td>Test case 6</td><td>19<br>95</td><td>Profit</td></tr>\n",
    "</table>"
   ]
  },
  {
   "cell_type": "code",
   "execution_count": 3,
   "metadata": {},
   "outputs": [
    {
     "name": "stdout",
     "output_type": "stream",
     "text": [
      "19\n",
      "95\n",
      "Profit\n"
     ]
    }
   ],
   "source": [
    "def profit_loss_neither(cp,sp):\n",
    "    difference = sp - cp\n",
    "    if(difference > 0):\n",
    "        print(\"Profit\")\n",
    "    elif(difference == 0):\n",
    "        print(\"Neither\")\n",
    "    else:\n",
    "        print(\"Loss\")\n",
    "\n",
    "\n",
    "cost_price = int(input())\n",
    "selling_price = int(input())\n",
    "profit_loss_neither(cost_price, selling_price)"
   ]
  },
  {
   "cell_type": "markdown",
   "metadata": {},
   "source": [
    "## Questions 4:\n",
    "Write a program that takes an amount in Indian Rupees as input. You need to find its equivalent\n",
    "in Euro and display it. Assume 1 Euro equals Rs. 80.\n",
    "Please note that you are expected to stick to the given input and output\n",
    "format as in sample test cases. Please don't add any extra lines such as\n",
    "'Enter a number', etc.\n",
    "Your program should take only one number as input and display the output.\n",
    "#### sample test cases \n",
    "<table align=\"left\">\n",
    "    <tr><td></td><td>Input</td><td>Output</td></tr>\n",
    "    <tr><td>Test case 1</td><td>20</td><td>1600</td></tr>\n",
    "    <tr><td>Test case 2</td><td>50</td><td>4000</td></tr>\n",
    "    <tr><td>Test case 3</td><td>72</td><td>5760</td></tr>\n",
    "    <tr><td>Test case 4</td><td>7</td><td>560</td></tr>\n",
    "    <tr><td>Test case 5</td><td>35</td><td>2800</td></tr>\n",
    "    <tr><td>Test case 6</td><td>23</td><td>1840</td></tr>\n",
    "    <tr><td>Test case 7</td><td>95</td><td>7600</td></tr>\n",
    "    <tr><td>Test case 8</td><td>18</td><td>1440</td></tr>\n",
    "</table>\n",
    "\n"
   ]
  },
  {
   "cell_type": "code",
   "execution_count": 4,
   "metadata": {},
   "outputs": [
    {
     "name": "stdout",
     "output_type": "stream",
     "text": [
      "95\n",
      "7600\n"
     ]
    }
   ],
   "source": [
    "def inr_to_euro(inr):\n",
    "    return inr*80\n",
    "\n",
    "x = int(input())\n",
    "print(inr_to_euro(x))"
   ]
  },
  {
   "cell_type": "code",
   "execution_count": null,
   "metadata": {},
   "outputs": [],
   "source": []
  }
 ],
 "metadata": {
  "kernelspec": {
   "display_name": "Python 3",
   "language": "python",
   "name": "python3"
  },
  "language_info": {
   "codemirror_mode": {
    "name": "ipython",
    "version": 3
   },
   "file_extension": ".py",
   "mimetype": "text/x-python",
   "name": "python",
   "nbconvert_exporter": "python",
   "pygments_lexer": "ipython3",
   "version": "3.8.3"
  }
 },
 "nbformat": 4,
 "nbformat_minor": 4
}
