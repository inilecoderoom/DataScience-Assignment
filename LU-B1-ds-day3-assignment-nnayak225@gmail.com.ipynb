{
 "cells": [
  {
   "cell_type": "markdown",
   "metadata": {},
   "source": [
    "# Day 3 -- Assignment"
   ]
  },
  {
   "cell_type": "markdown",
   "metadata": {},
   "source": [
    "### Questions 1:\n",
    "Create a numpy array starting from 2 till 50 with a stepsize of 3."
   ]
  },
  {
   "cell_type": "code",
   "execution_count": 1,
   "metadata": {},
   "outputs": [],
   "source": [
    "import numpy as np"
   ]
  },
  {
   "cell_type": "code",
   "execution_count": 2,
   "metadata": {},
   "outputs": [
    {
     "name": "stdout",
     "output_type": "stream",
     "text": [
      "[ 2  5  8 11 14 17 20 23 26 29 32 35 38 41 44 47 50]\n"
     ]
    }
   ],
   "source": [
    "arr = np.arange(2, 51, 3)\n",
    "print(arr)"
   ]
  },
  {
   "cell_type": "code",
   "execution_count": null,
   "metadata": {},
   "outputs": [],
   "source": []
  },
  {
   "cell_type": "markdown",
   "metadata": {},
   "source": [
    "### Questions 2:\n",
    "Accept two lists of 5 elements each from the user.\n",
    "Convert them to numpy arrays. Concatenate these arrays and print it. Also sort these arrays and print it."
   ]
  },
  {
   "cell_type": "code",
   "execution_count": 3,
   "metadata": {},
   "outputs": [
    {
     "name": "stdout",
     "output_type": "stream",
     "text": [
      "Input for first list:\n",
      "56\n",
      "23\n",
      "42\n",
      "89\n",
      "65\n",
      "\n",
      "Input for second list:\n",
      "12\n",
      "55\n",
      "38\n",
      "44\n",
      "79\n",
      "\n",
      "[56 23 42 89 65 12 55 38 44 79]\n",
      "\n",
      "[12 23 38 42 44 55 56 65 79 89]\n"
     ]
    }
   ],
   "source": [
    "# list creation\n",
    "first_list = []\n",
    "second_list = []\n",
    "\n",
    "# taking user input for first list\n",
    "print(\"Input for first list:\")\n",
    "for i in range(5):\n",
    "    first_list.append(int(input()))\n",
    "\n",
    "print() # printing blank line\n",
    "\n",
    "# taking user input for second list\n",
    "print(\"Input for second list:\")\n",
    "\n",
    "for j in range(5):\n",
    "    second_list.append(int(input()))\n",
    "\n",
    "# converting list into numpy array\n",
    "first_arr = np.array(first_list)\n",
    "second_arr = np.array(second_list)\n",
    "\n",
    "print() # printing blank line\n",
    "\n",
    "# concatenating two numpy array\n",
    "concatenated_arr = np.concatenate((first_arr, second_arr), axis = 0)\n",
    "print(concatenated_arr)\n",
    "\n",
    "print() # printing blank line\n",
    "\n",
    "# sorting numpy array\n",
    "sorted_arr = np.sort(concatenated_arr)\n",
    "\n",
    "print(sorted_arr)"
   ]
  },
  {
   "cell_type": "code",
   "execution_count": null,
   "metadata": {},
   "outputs": [],
   "source": []
  },
  {
   "cell_type": "markdown",
   "metadata": {},
   "source": [
    "### Questions 3:\n",
    "Write a code snippet to find the dimensions of a ndarray and its size."
   ]
  },
  {
   "cell_type": "code",
   "execution_count": 4,
   "metadata": {},
   "outputs": [
    {
     "name": "stdout",
     "output_type": "stream",
     "text": [
      "[ 52  71  38  55  79  23 758  80  99]\n",
      "Shape: (9,)\n",
      "Dimension: 1\n",
      "Size: 9\n",
      "\n",
      "[[81 53 47]\n",
      " [42 55 16]\n",
      " [74 28 39]\n",
      " [62 44 21]]\n",
      "Shape: (4, 3)\n",
      "Dimension: 2\n",
      "Size: 12\n"
     ]
    }
   ],
   "source": [
    "arr_1D = np.array( [52,71,38,55,79,23,758,80,99] )\n",
    "print(arr_1D)\n",
    "print(\"Shape:\",arr_1D.shape)\n",
    "print(\"Dimension:\",np.ndim(arr_1D))\n",
    "print(\"Size:\",arr_1D.size)\n",
    "\n",
    "\n",
    "print()\n",
    "\n",
    "arr_2D = np.array( [ [81,53,47] , [42,55,16] , [74,28,39] , [62,44,21]] )\n",
    "print(arr_2D)\n",
    "print(\"Shape:\",arr_2D.shape)\n",
    "print(\"Dimension:\",np.ndim(arr_2D))\n",
    "print(\"Size:\",arr_2D.size)\n"
   ]
  },
  {
   "cell_type": "code",
   "execution_count": null,
   "metadata": {},
   "outputs": [],
   "source": []
  },
  {
   "cell_type": "markdown",
   "metadata": {},
   "source": [
    "### Questions 4:\n",
    "How to convert a 1D array into a 2D array? Demonstrate with the help of a code snippet\n",
    "Hint: np.newaxis, np.expand_dims"
   ]
  },
  {
   "cell_type": "code",
   "execution_count": 5,
   "metadata": {},
   "outputs": [
    {
     "name": "stdout",
     "output_type": "stream",
     "text": [
      "Shape: (9,)\n",
      "Dimension: 1\n",
      "\n",
      "[[ 52]\n",
      " [ 71]\n",
      " [ 38]\n",
      " [ 55]\n",
      " [ 79]\n",
      " [ 23]\n",
      " [758]\n",
      " [ 80]\n",
      " [ 99]]\n",
      "Shape: (9, 1)\n",
      "Dimension: 2\n",
      "\n",
      "[[ 52  71  38  55  79  23 758  80  99]]\n",
      "Shape: (1, 9)\n",
      "Dimension: 2\n"
     ]
    }
   ],
   "source": [
    "arry_1D = np.array( [52,71,38,55,79,23,758,80,99] )\n",
    "\n",
    "# using np.newaxis\n",
    "arry_2D = arry_1D[:, np.newaxis]\n",
    "\n",
    "# using np.expand_dims() method\n",
    "arry_2D_expanded  = np.expand_dims(arry_1D, 0)\n",
    "\n",
    "print(\"Shape:\",arry_1D.shape)\n",
    "print(\"Dimension:\",np.ndim(arry_1D))\n",
    "\n",
    "print()\n",
    "\n",
    "print(arry_2D)\n",
    "print(\"Shape:\",arry_2D.shape)\n",
    "print(\"Dimension:\",np.ndim(arry_2D))\n",
    "\n",
    "print()\n",
    "\n",
    "print(arry_2D_expanded)\n",
    "print(\"Shape:\",arry_2D_expanded.shape)\n",
    "print(\"Dimension:\",np.ndim(arry_2D_expanded))"
   ]
  },
  {
   "cell_type": "code",
   "execution_count": null,
   "metadata": {},
   "outputs": [],
   "source": []
  },
  {
   "cell_type": "markdown",
   "metadata": {},
   "source": [
    "### Questions 5:\n",
    "Consider two square numpy arrays. Stack them vertically and horizontally.\n",
    "Hint: Use vstack(), hstack()"
   ]
  },
  {
   "cell_type": "code",
   "execution_count": 6,
   "metadata": {},
   "outputs": [
    {
     "name": "stdout",
     "output_type": "stream",
     "text": [
      "Vertical stack of two numpy arrays \n",
      " [[0. 0. 0. 0.]\n",
      " [0. 0. 0. 0.]\n",
      " [0. 0. 0. 0.]\n",
      " [0. 0. 0. 0.]\n",
      " [1. 1. 1. 1.]\n",
      " [1. 1. 1. 1.]\n",
      " [1. 1. 1. 1.]\n",
      " [1. 1. 1. 1.]]\n",
      "\n",
      "Horizontal stack of two numpy arrays \n",
      " [[0. 0. 0. 0. 1. 1. 1. 1.]\n",
      " [0. 0. 0. 0. 1. 1. 1. 1.]\n",
      " [0. 0. 0. 0. 1. 1. 1. 1.]\n",
      " [0. 0. 0. 0. 1. 1. 1. 1.]]\n"
     ]
    }
   ],
   "source": [
    "zero_arr = np.zeros((4,4))\n",
    "one_arr = np.ones((4,4))\n",
    "\n",
    "# np.identity( 3 )\n",
    "\n",
    "print(\"Vertical stack of two numpy arrays \\n\",np.vstack((zero_arr, one_arr)))\n",
    "\n",
    "print()\n",
    "\n",
    "print(\"Horizontal stack of two numpy arrays \\n\",np.hstack((zero_arr, one_arr)))"
   ]
  },
  {
   "cell_type": "code",
   "execution_count": null,
   "metadata": {},
   "outputs": [],
   "source": []
  },
  {
   "cell_type": "markdown",
   "metadata": {},
   "source": [
    "### Questions 6:\n",
    "How to get unique items and counts of unique items?"
   ]
  },
  {
   "cell_type": "code",
   "execution_count": 7,
   "metadata": {},
   "outputs": [
    {
     "name": "stdout",
     "output_type": "stream",
     "text": [
      "Total number of item in list = 6\n",
      "Data Science\n",
      "IOT\n",
      "AWS\n",
      "IOT\n",
      "AWS\n",
      "ReactJs\n",
      "\n",
      "['Data Science', 'IOT', 'AWS', 'IOT', 'AWS', 'ReactJs']\n",
      "\n",
      "Unique Items with item count\n",
      "Data Science : 1\n",
      "IOT : 2\n",
      "AWS : 2\n",
      "ReactJs : 1\n"
     ]
    }
   ],
   "source": [
    "# dictionary can be used to store \"unique item\" as {key} and \"count\" of unique item as {value}\n",
    "\n",
    "item_list = []  # item list created \n",
    "\n",
    "total_item = int(input(\"Total number of item in list = \"))\n",
    "\n",
    "# User enters item name\n",
    "for item in range(total_item):\n",
    "    item_list.append(input().strip())\n",
    "\n",
    "print()\n",
    "print(item_list)\n",
    "print()\n",
    "\n",
    "# Creating dictionary to store unique item and its count\n",
    "item_dict = {unique_item : item_list.count(unique_item) for unique_item in item_list}\n",
    "\n",
    "print(\"Unique Items with item count\")\n",
    "\n",
    "for uItem, count_uItem in item_dict.items():\n",
    "    print(f\"{uItem} : {count_uItem}\")"
   ]
  },
  {
   "cell_type": "code",
   "execution_count": null,
   "metadata": {},
   "outputs": [],
   "source": []
  }
 ],
 "metadata": {
  "kernelspec": {
   "display_name": "Python 3",
   "language": "python",
   "name": "python3"
  },
  "language_info": {
   "codemirror_mode": {
    "name": "ipython",
    "version": 3
   },
   "file_extension": ".py",
   "mimetype": "text/x-python",
   "name": "python",
   "nbconvert_exporter": "python",
   "pygments_lexer": "ipython3",
   "version": "3.8.3"
  }
 },
 "nbformat": 4,
 "nbformat_minor": 4
}
